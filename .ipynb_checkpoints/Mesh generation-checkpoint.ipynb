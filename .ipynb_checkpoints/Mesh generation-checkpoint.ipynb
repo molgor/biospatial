{
 "metadata": {
  "name": "",
  "signature": "sha256:c12dd6cc084e8712db5ae23606d6d04de4b45236188090a1db9970f563701e51"
 },
 "nbformat": 3,
 "nbformat_minor": 0,
 "worksheets": [
  {
   "cells": [
    {
     "cell_type": "heading",
     "level": 1,
     "metadata": {},
     "source": [
      "*Mesh generation*"
     ]
    },
    {
     "cell_type": "markdown",
     "metadata": {},
     "source": [
      "In this section we are going to create the necessary Grids that are going to feed the Bios*PY*tial toolbox.\n",
      "The first step is to define an area based on a Polygon object obtained from a spacial database.\n",
      "As is going to be studied further, this polygon selection is going to be used for other datasources (*e.g. Biomes*).\n",
      "\n",
      "For this case the data source will be the \"world_borders\" map. \n",
      "\n",
      "The model definition for this table is already defined in the module sketches.models under the Class Name *Country*\n",
      "\n",
      "Without loosing generality we are going to focus the analysis in Mexico.\n"
     ]
    },
    {
     "cell_type": "heading",
     "level": 3,
     "metadata": {},
     "source": [
      "Lets import first the polygon representing Mexico's border.\n"
     ]
    },
    {
     "cell_type": "code",
     "collapsed": false,
     "input": [
      "from sketches.models import Country\n",
      "mexico = Country.objects.filter(name__contains='exico')\n",
      "mex = mexico.first()"
     ],
     "language": "python",
     "metadata": {},
     "outputs": [],
     "prompt_number": 8
    },
    {
     "cell_type": "markdown",
     "metadata": {},
     "source": [
      "As it can be seen 'mexico' is a geometric object with several attributes."
     ]
    },
    {
     "cell_type": "heading",
     "level": 3,
     "metadata": {},
     "source": [
      "Summoning the Biosphere *modulus* Mexico"
     ]
    },
    {
     "cell_type": "markdown",
     "metadata": {},
     "source": [
      "As seen before, the biosphere object is the abstraction of the set of all occurrences of living beings in the GBIF database.\n",
      "For instantiating the biosphere use:"
     ]
    },
    {
     "cell_type": "code",
     "collapsed": false,
     "input": [
      "from gbif.models import Occurrence\n",
      "biosphere = Occurrence.objects.all()"
     ],
     "language": "python",
     "metadata": {},
     "outputs": [],
     "prompt_number": 9
    },
    {
     "cell_type": "markdown",
     "metadata": {},
     "source": [
      "The content of this object is the entire GBIF databse, any attempt to measure retrieve all data will cause a huge load of information."
     ]
    },
    {
     "cell_type": "heading",
     "level": 4,
     "metadata": {},
     "source": [
      "Filtering the biosphere within the Mexican Border"
     ]
    },
    {
     "cell_type": "code",
     "collapsed": false,
     "input": [
      "mexican_biosphere = biosphere.filter(geom__intersects=mex.geom)"
     ],
     "language": "python",
     "metadata": {},
     "outputs": [],
     "prompt_number": 10
    },
    {
     "cell_type": "code",
     "collapsed": false,
     "input": [],
     "language": "python",
     "metadata": {},
     "outputs": []
    }
   ],
   "metadata": {}
  }
 ]
}